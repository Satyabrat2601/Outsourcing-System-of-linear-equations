{
 "cells": [
  {
   "cell_type": "code",
   "execution_count": null,
   "metadata": {},
   "outputs": [],
   "source": [
    "import numpy as np\n",
    "from datetime import datetime"
   ]
  },
  {
   "cell_type": "code",
   "execution_count": null,
   "metadata": {},
   "outputs": [],
   "source": [
    "\n",
    "\n",
    "def LeastSQR(A, b, tol):\n",
    "    u = b.copy()\n",
    "    beta = np.linalg.norm(u)\n",
    "    if beta != 0:\n",
    "        u = u / beta\n",
    "    v = np.dot(A.T, u)\n",
    "    alpha = np.linalg.norm(v)\n",
    "    if alpha != 0:\n",
    "        v = v / alpha\n",
    "    w = v.copy()\n",
    "    x = np.zeros((A.shape[1], 1))\n",
    "    phi_bar = beta\n",
    "    rho_bar = alpha\n",
    "    while True:\n",
    "        u = A.dot(v) - alpha * u\n",
    "        beta = np.linalg.norm(u)\n",
    "        if beta != 0:\n",
    "            u = u / beta\n",
    "        v = np.dot(A.T, u) - beta * v\n",
    "        alpha = np.linalg.norm(v)\n",
    "        if alpha != 0:\n",
    "            v = v / alpha\n",
    "        rho = np.sqrt(rho_bar ** 2 + beta ** 2)\n",
    "        c = rho_bar / rho\n",
    "        s = beta / rho\n",
    "        theta = s * alpha\n",
    "        rho_bar = -c * alpha\n",
    "        phi = c * phi_bar\n",
    "        phi_bar = s * phi_bar\n",
    "\n",
    "        if np.linalg.norm(b - A.dot(x)) < tol:\n",
    "            break\n",
    "        else:\n",
    "            x = x + (phi / rho) * w\n",
    "            w = v - (theta / rho) * w\n",
    "\n",
    "    return x\n"
   ]
  },
  {
   "cell_type": "code",
   "execution_count": null,
   "metadata": {},
   "outputs": [],
   "source": [
    "#Import T1 and d1\n",
    "T1 = np.loadtxt(\"T1.txt\", delimiter=\",\")\n",
    "d1 = np.loadtxt(\"d1.txt\", delimiter=\",\")\n",
    "d1 = d1.reshape(d1.shape[0], 1)"
   ]
  },
  {
   "cell_type": "code",
   "execution_count": null,
   "metadata": {},
   "outputs": [],
   "source": [
    "start_time = datetime.now()\n",
    "\n",
    "w1 = LeastSQR(T1, d1, 10**(-5))\n",
    "\n",
    "end_time = datetime.now()\n",
    "print('Duration: {}'.format(end_time - start_time))"
   ]
  },
  {
   "cell_type": "code",
   "execution_count": null,
   "metadata": {},
   "outputs": [],
   "source": [
    "# Variables to Client\n",
    "# w1\n",
    "np.savetxt('w1.txt', w1, delimiter=',')"
   ]
  }
 ],
 "metadata": {
  "kernelspec": {
   "display_name": "Python 3",
   "language": "python",
   "name": "python3"
  },
  "language_info": {
   "codemirror_mode": {
    "name": "ipython",
    "version": 3
   },
   "file_extension": ".py",
   "mimetype": "text/x-python",
   "name": "python",
   "nbconvert_exporter": "python",
   "pygments_lexer": "ipython3",
   "version": "3.8.3"
  }
 },
 "nbformat": 4,
 "nbformat_minor": 4
}
