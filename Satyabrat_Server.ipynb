{
  "nbformat": 4,
  "nbformat_minor": 0,
  "metadata": {
    "colab": {
      "provenance": [],
      "authorship_tag": "ABX9TyM8AenqDaosBvnLr3obgc57",
      "include_colab_link": true
    },
    "kernelspec": {
      "name": "python3",
      "display_name": "Python 3"
    },
    "language_info": {
      "name": "python"
    }
  },
  "cells": [
    {
      "cell_type": "markdown",
      "metadata": {
        "id": "view-in-github",
        "colab_type": "text"
      },
      "source": [
        "<a href=\"https://colab.research.google.com/github/ManoPrakash6/outsourcing-linear-equation/blob/main/Satyabrat_Server.ipynb\" target=\"_parent\"><img src=\"https://colab.research.google.com/assets/colab-badge.svg\" alt=\"Open In Colab\"/></a>"
      ]
    },
    {
      "cell_type": "code",
      "execution_count": 42,
      "metadata": {
        "id": "VeCTnCo9jtcN"
      },
      "outputs": [],
      "source": [
        "import numpy as np"
      ]
    },
    {
      "cell_type": "code",
      "source": [
        "print('LSQR')\n",
        "\n",
        "def colnorms(A, m, n, p):\n",
        "    return np.sqrt(np.sum(A**2, axis=0))\n",
        "\n",
        "def LeastSQR(A, b, tol):\n",
        "    \n",
        "    u = b.copy()\n",
        "    beta = np.linalg.norm(u)\n",
        "    if beta != 0:\n",
        "        u = u / beta\n",
        "    v = A.T @ u\n",
        "    alpha = np.linalg.norm(v)\n",
        "    if alpha != 0:\n",
        "        v = v / alpha\n",
        "    w = v.copy()\n",
        "    x = np.zeros(b.shape[0])\n",
        "    x = x.reshape((x.shape[0], 1))\n",
        "    phi_bar = beta\n",
        "    rho_bar = alpha\n",
        "    \n",
        "    while True:\n",
        "        u = A @ v - alpha * u\n",
        "        beta = np.linalg.norm(u)\n",
        "        if beta != 0:\n",
        "            u = u / beta\n",
        "        v = A.T @ u - beta * v\n",
        "        alpha = np.linalg.norm(v)\n",
        "        if alpha != 0:\n",
        "            v = v / alpha\n",
        "        rho = np.sqrt(rho_bar ** 2 + beta ** 2)\n",
        "        c = rho_bar / rho\n",
        "        s = beta / rho\n",
        "        theta = s * alpha\n",
        "        rho_bar = -c * alpha\n",
        "        phi = c * phi_bar\n",
        "        phi_bar = s * phi_bar\n",
        "        \n",
        "        if np.linalg.norm(b - A @ x, 'fro') < tol:\n",
        "            break\n",
        "        else:\n",
        "            x = x + (phi / rho) * w\n",
        "            w = v - (theta / rho) * w\n",
        "    \n",
        "    return x"
      ],
      "metadata": {
        "colab": {
          "base_uri": "https://localhost:8080/"
        },
        "id": "RFZztJvTj66y",
        "outputId": "2f3aaf8c-ee39-4681-c814-2f53faeca5fa"
      },
      "execution_count": 37,
      "outputs": [
        {
          "output_type": "stream",
          "name": "stdout",
          "text": [
            "LSQR\n"
          ]
        }
      ]
    },
    {
      "cell_type": "code",
      "source": [
        "x = np.zeros(d1.shape[0])\n",
        "x.shape"
      ],
      "metadata": {
        "colab": {
          "base_uri": "https://localhost:8080/"
        },
        "id": "2mZ1mOftr29G",
        "outputId": "014ffc44-2950-4fbe-a6a3-360cee51f65f"
      },
      "execution_count": 36,
      "outputs": [
        {
          "output_type": "execute_result",
          "data": {
            "text/plain": [
              "(43,)"
            ]
          },
          "metadata": {},
          "execution_count": 36
        }
      ]
    },
    {
      "cell_type": "code",
      "source": [
        "#Import T1 and d1\n",
        "T1 = np.loadtxt(\"T1_1.txt\", delimiter=\",\")\n",
        "d1 = np.loadtxt(\"d1_1.txt\", delimiter=\",\")\n",
        "d1 = d1.reshape(d1.shape[0], 1)"
      ],
      "metadata": {
        "id": "m-r_D844lqFu"
      },
      "execution_count": 43,
      "outputs": []
    },
    {
      "cell_type": "code",
      "source": [
        "M = np.diag(colnorms(T1, T1.shape[0], T1.shape[1], 50))\n",
        "w = LeastSQR(T1 * np.linalg.inv(M), d1, 10**(-5))\n",
        "w1 = np.linalg.solve(M, w)"
      ],
      "metadata": {
        "id": "s9UOZN-WkICt"
      },
      "execution_count": 44,
      "outputs": []
    },
    {
      "cell_type": "code",
      "source": [
        "# Variables to Client\n",
        "# w1\n",
        "np.savetxt('w1_1.txt', w1, delimiter=',')"
      ],
      "metadata": {
        "id": "Lscv6Hr1qxNA"
      },
      "execution_count": 45,
      "outputs": []
    },
    {
      "cell_type": "code",
      "source": [
        "w1.shape"
      ],
      "metadata": {
        "colab": {
          "base_uri": "https://localhost:8080/"
        },
        "id": "4Gi43xX1sHKe",
        "outputId": "b47fc4d3-3a40-462a-8fa4-42ed1a4f69ff"
      },
      "execution_count": 46,
      "outputs": [
        {
          "output_type": "execute_result",
          "data": {
            "text/plain": [
              "(97, 1)"
            ]
          },
          "metadata": {},
          "execution_count": 46
        }
      ]
    },
    {
      "cell_type": "code",
      "source": [
        "(T1 * np.linalg.inv(M)).shape\n",
        "d1.shape"
      ],
      "metadata": {
        "colab": {
          "base_uri": "https://localhost:8080/"
        },
        "id": "Bt7z2Penri1Y",
        "outputId": "424ebe78-564a-4a50-88af-9d5ce2a849fa"
      },
      "execution_count": 33,
      "outputs": [
        {
          "output_type": "execute_result",
          "data": {
            "text/plain": [
              "(43, 1)"
            ]
          },
          "metadata": {},
          "execution_count": 33
        }
      ]
    }
  ]
}