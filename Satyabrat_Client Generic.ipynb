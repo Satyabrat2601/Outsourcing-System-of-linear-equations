{
 "cells": [
  {
   "cell_type": "code",
   "execution_count": 1,
   "id": "63c1e992",
   "metadata": {},
   "outputs": [],
   "source": [
    "import numpy as np\n",
    "from datetime import datetime"
   ]
  },
  {
   "cell_type": "code",
   "execution_count": 2,
   "id": "aefb3130",
   "metadata": {},
   "outputs": [
    {
     "name": "stdout",
     "output_type": "stream",
     "text": [
      "new scheme\n",
      "Row number: 1000\n",
      "Column number: 1200\n",
      "Duration: 0:00:00.031981\n"
     ]
    }
   ],
   "source": [
    "print('new scheme')\n",
    "m = int(input('Row number: '))\n",
    "n = int(input('Column number: '))\n",
    "start_time = datetime.now()\n",
    "A = np.random.rand(m, n)\n",
    "b = np.random.rand(m, 1)\n",
    "end_time = datetime.now()\n",
    "print('Duration: {}'.format(end_time - start_time))"
   ]
  },
  {
   "cell_type": "code",
   "execution_count": 3,
   "id": "8dce2c0d",
   "metadata": {},
   "outputs": [
    {
     "name": "stdout",
     "output_type": "stream",
     "text": [
      "KeyGen\n",
      "Duration: 0:00:00.814545\n"
     ]
    }
   ],
   "source": [
    "print('KeyGen')\n",
    "start_time = datetime.now()\n",
    "alpha = np.random.rand()\n",
    "beta = np.random.rand()\n",
    "s = np.random.randint(1, 50)\n",
    "k = np.random.randint(1, s)\n",
    "l = np.random.randint(1, s)\n",
    "\n",
    "B = np.random.rand(s, k)\n",
    "B1 = np.random.rand(s, l)\n",
    "B = B @ B.T\n",
    "B1 = B1 @ B1.T\n",
    "\n",
    "P = np.zeros((m+2*s, m+2*s))\n",
    "\n",
    "for i in range(m+2*s):\n",
    "    l = 0\n",
    "    for k in range(9):\n",
    "        j = np.random.randint(m+2*s)\n",
    "        if j != i:\n",
    "            P[i, j] = np.random.rand()\n",
    "            l += P[i, j]\n",
    "    P[i, i] = l + 1\n",
    "\n",
    "r = np.random.rand(n+2*s, 1)\n",
    "end_time = datetime.now()\n",
    "print('Duration: {}'.format(end_time - start_time))\n"
   ]
  },
  {
   "cell_type": "code",
   "execution_count": 4,
   "id": "9d42f317",
   "metadata": {},
   "outputs": [
    {
     "name": "stdout",
     "output_type": "stream",
     "text": [
      "ProbGen\n",
      "Duration: 0:00:00.355269\n"
     ]
    }
   ],
   "source": [
    "print('ProbGen')\n",
    "start_time = datetime.now()\n",
    "T = np.block([[B, np.zeros((s, n)), alpha*B1],\n",
    "              [np.zeros((m, s)), A, np.zeros((m, s))],\n",
    "              [beta*B, np.zeros((s, n)), B1]])\n",
    "T1 = P @ T\n",
    "d = np.block([np.zeros((s, 1)).T, (b).T, np.zeros((s, 1)).T]).T + T@r\n",
    "d1 = P @ d\n",
    "end_time = datetime.now()\n",
    "print('Duration: {}'.format(end_time - start_time))\n"
   ]
  },
  {
   "cell_type": "code",
   "execution_count": 5,
   "id": "088d4ec5",
   "metadata": {},
   "outputs": [],
   "source": [
    "# Variables to Server\n",
    "# T1 and d1\n",
    "np.savetxt('T1.txt', T1, delimiter=',')\n",
    "np.savetxt('d1.txt', d1, delimiter=',')"
   ]
  },
  {
   "cell_type": "code",
   "execution_count": 8,
   "id": "9c856126",
   "metadata": {},
   "outputs": [
    {
     "name": "stdout",
     "output_type": "stream",
     "text": [
      "Verification\n",
      "Pass Verification\n",
      "Duration: 0:00:00.002000\n"
     ]
    }
   ],
   "source": [
    "# Once we get w from server, we run the following code\n",
    "w = np.loadtxt(\"w1.txt\", delimiter=',')\n",
    "w = w.reshape(w.shape[0], 1)\n",
    "print('Verification')\n",
    "start_time = datetime.now()\n",
    "z = T1 @ w\n",
    "if np.linalg.norm(z-d1) < 10**(-5):\n",
    "    c = 1\n",
    "    print('Pass Verification')\n",
    "else:\n",
    "    c = 0\n",
    "    print('Wrong')\n",
    "        \n",
    "end_time = datetime.now()\n",
    "print('Duration: {}'.format(end_time - start_time))       \n"
   ]
  },
  {
   "cell_type": "code",
   "execution_count": 9,
   "id": "5549bf89",
   "metadata": {},
   "outputs": [
    {
     "name": "stdout",
     "output_type": "stream",
     "text": [
      "Result\n",
      "Pass Verification\n",
      "Duration: 0:00:00.000998\n"
     ]
    }
   ],
   "source": [
    "print('Result')\n",
    "start_time = datetime.now()\n",
    "if c == 1:\n",
    "    print('Pass Verification')\n",
    "    o1 = w - r\n",
    "    \n",
    "    x = o1[s:s+n]\n",
    "    \n",
    "\n",
    "end_time = datetime.now()\n",
    "print('Duration: {}'.format(end_time - start_time))"
   ]
  },
  {
   "cell_type": "code",
   "execution_count": null,
   "id": "1795008c",
   "metadata": {},
   "outputs": [],
   "source": []
  }
 ],
 "metadata": {
  "kernelspec": {
   "display_name": "Python 3 (ipykernel)",
   "language": "python",
   "name": "python3"
  },
  "language_info": {
   "codemirror_mode": {
    "name": "ipython",
    "version": 3
   },
   "file_extension": ".py",
   "mimetype": "text/x-python",
   "name": "python",
   "nbconvert_exporter": "python",
   "pygments_lexer": "ipython3",
   "version": "3.9.12"
  }
 },
 "nbformat": 4,
 "nbformat_minor": 5
}
