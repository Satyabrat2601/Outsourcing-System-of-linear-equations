{
 "cells": [
  {
   "cell_type": "markdown",
   "metadata": {
    "colab_type": "text",
    "id": "view-in-github"
   },
   "source": [
    "<a href=\"https://colab.research.google.com/github/ManoPrakash6/outsourcing-linear-equation/blob/main/Satyabrat_Client.ipynb\" target=\"_parent\"><img src=\"https://colab.research.google.com/assets/colab-badge.svg\" alt=\"Open In Colab\"/></a>"
   ]
  },
  {
   "cell_type": "code",
   "execution_count": null,
   "metadata": {
    "id": "nKEC6UqCmWVg"
   },
   "outputs": [],
   "source": [
    "import numpy as np\n",
    "from datetime import datetime"
   ]
  },
  {
   "cell_type": "code",
   "execution_count": null,
   "metadata": {
    "colab": {
     "base_uri": "https://localhost:8080/"
    },
    "id": "k3Fsr-oQmfWz",
    "outputId": "9f78cbdd-0569-4876-ab9a-8e1bf04959d5"
   },
   "outputs": [],
   "source": [
    "print('new scheme')\n",
    "n = int(input('size of matrix: '))\n",
    "start_time = datetime.now()\n",
    "A = np.random.rand(n, n)\n",
    "b = np.random.rand(n, 1)\n",
    "end_time = datetime.now()\n",
    "print('Duration: {}'.format(end_time - start_time))\n"
   ]
  },
  {
   "cell_type": "code",
   "execution_count": null,
   "metadata": {
    "colab": {
     "base_uri": "https://localhost:8080/"
    },
    "id": "WesZJ3PQmhyr",
    "outputId": "0b640fba-dcf6-4efb-9b91-c52f8f1c750e"
   },
   "outputs": [],
   "source": [
    "print('KeyGen')\n",
    "start_time = datetime.now()\n",
    "alpha = np.random.rand()\n",
    "beta = np.random.rand()\n",
    "s = np.random.randint(1, 50)\n",
    "k = np.random.randint(1, s)\n",
    "l = np.random.randint(1, s)\n",
    "\n",
    "B = np.random.rand(s, k)\n",
    "B1 = np.random.rand(s, l)\n",
    "B = B @ B.T\n",
    "B1 = B1 @ B1.T\n",
    "\n",
    "P = np.zeros((n+2*s, n+2*s))\n",
    "\n",
    "for i in range(n+2*s):\n",
    "    l = 0\n",
    "    for k in range(9):\n",
    "        j = np.random.randint(n+2*s)\n",
    "        if j != i:\n",
    "            P[i, j] = np.random.rand()\n",
    "            l += P[i, j]\n",
    "    P[i, i] = l + 1\n",
    "\n",
    "r = np.random.rand(n, 1)\n",
    "end_time = datetime.now()\n",
    "print('Duration: {}'.format(end_time - start_time))\n"
   ]
  },
  {
   "cell_type": "code",
   "execution_count": null,
   "metadata": {
    "id": "aI6gpg6LmlP0"
   },
   "outputs": [],
   "source": []
  },
  {
   "cell_type": "code",
   "execution_count": null,
   "metadata": {
    "colab": {
     "base_uri": "https://localhost:8080/"
    },
    "id": "2cQu8-3DhAZk",
    "outputId": "89cd65b7-4a54-4137-b82f-b452f579f2f9"
   },
   "outputs": [],
   "source": [
    "print('ProbGen')\n",
    "start_time = datetime.now()\n",
    "T = np.block([[B, np.zeros((s, n)), alpha*B1],\n",
    "              [np.zeros((n, s)), A, np.zeros((n, s))],\n",
    "              [beta*B, np.zeros((s, n)), B1]])\n",
    "T1 = P @ T\n",
    "d = np.block([np.zeros((s, 1)).T, (b + A @ r).T, np.zeros((s, 1)).T]).T\n",
    "d1 = P @ d\n",
    "end_time = datetime.now()\n",
    "print('Duration: {}'.format(end_time - start_time))\n"
   ]
  },
  {
   "cell_type": "code",
   "execution_count": null,
   "metadata": {
    "colab": {
     "base_uri": "https://localhost:8080/"
    },
    "id": "3ychf2MkhN_3",
    "outputId": "a30e51c0-9b09-494c-f136-c639bdd07d9a"
   },
   "outputs": [],
   "source": [
    "d1.shape"
   ]
  },
  {
   "cell_type": "code",
   "execution_count": null,
   "metadata": {
    "id": "jMVbVMtph0Jb"
   },
   "outputs": [],
   "source": [
    "# Variables to Server\n",
    "# T1 and d1\n",
    "np.savetxt('T1.txt', T1, delimiter=',')\n",
    "np.savetxt('d1.txt', d1, delimiter=',')"
   ]
  },
  {
   "cell_type": "code",
   "execution_count": null,
   "metadata": {
    "colab": {
     "base_uri": "https://localhost:8080/"
    },
    "id": "SCKET4-ikVcJ",
    "outputId": "192fb4d8-040d-46ff-d391-07cdeda2737a"
   },
   "outputs": [],
   "source": [
    "# Once we get w from server, we run the following code\n",
    "w = np.loadtxt(\"w1.txt\", delimiter=',')\n",
    "w = w.reshape(w.shape[0], 1)\n",
    "print('Verification')\n",
    "start_time = datetime.now()\n",
    "z = T1 @ w\n",
    "if np.linalg.norm(z-d1) < 10**(-3):\n",
    "    c = 1\n",
    "    print('Pass Verification')\n",
    "else:\n",
    "    c = 0\n",
    "    print('Wrong')\n",
    "        \n",
    "end_time = datetime.now()\n",
    "print('Duration: {}'.format(end_time - start_time))       \n",
    "\n"
   ]
  },
  {
   "cell_type": "code",
   "execution_count": null,
   "metadata": {
    "colab": {
     "base_uri": "https://localhost:8080/"
    },
    "id": "0pte4ld5yGmH",
    "outputId": "0b4f55d3-af92-4429-a7de-6ac956ceb6e5"
   },
   "outputs": [],
   "source": [
    "print('Result')\n",
    "start_time = datetime.now()\n",
    "if c == 1:\n",
    "    print('Pass Verification')\n",
    "    o1 = w[s:s+n]\n",
    "    x = o1 - r\n",
    "\n",
    "end_time = datetime.now()\n",
    "print('Duration: {}'.format(end_time - start_time))"
   ]
  },
  {
   "cell_type": "code",
   "execution_count": 1,
   "metadata": {},
   "outputs": [
    {
     "ename": "NameError",
     "evalue": "name 'python' is not defined",
     "output_type": "error",
     "traceback": [
      "\u001b[1;31m---------------------------------------------------------------------------\u001b[0m",
      "\u001b[1;31mNameError\u001b[0m                                 Traceback (most recent call last)",
      "Input \u001b[1;32mIn [1]\u001b[0m, in \u001b[0;36m<cell line: 1>\u001b[1;34m()\u001b[0m\n\u001b[1;32m----> 1\u001b[0m \u001b[43mpython\u001b[49m \u001b[38;5;241m-\u001b[39m\u001b[38;5;241m-\u001b[39mversion\n",
      "\u001b[1;31mNameError\u001b[0m: name 'python' is not defined"
     ]
    }
   ],
   "source": []
  },
  {
   "cell_type": "code",
   "execution_count": null,
   "metadata": {},
   "outputs": [],
   "source": []
  }
 ],
 "metadata": {
  "colab": {
   "authorship_tag": "ABX9TyNLJbEOq3i2hEj1REHxeLA4",
   "include_colab_link": true,
   "provenance": []
  },
  "kernelspec": {
   "display_name": "Python 3 (ipykernel)",
   "language": "python",
   "name": "python3"
  },
  "language_info": {
   "codemirror_mode": {
    "name": "ipython",
    "version": 3
   },
   "file_extension": ".py",
   "mimetype": "text/x-python",
   "name": "python",
   "nbconvert_exporter": "python",
   "pygments_lexer": "ipython3",
   "version": "3.9.12"
  }
 },
 "nbformat": 4,
 "nbformat_minor": 1
}
